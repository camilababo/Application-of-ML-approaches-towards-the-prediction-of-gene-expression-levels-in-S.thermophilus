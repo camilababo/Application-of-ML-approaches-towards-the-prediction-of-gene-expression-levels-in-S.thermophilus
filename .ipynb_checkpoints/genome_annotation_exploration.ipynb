{
 "cells": [
  {
   "cell_type": "code",
   "execution_count": 1,
   "id": "55ec8f1c-bd5d-4753-af6a-d7794133f456",
   "metadata": {
    "pycharm": {
     "name": "#%%\n"
    }
   },
   "outputs": [
    {
     "name": "stdout",
     "output_type": "stream",
     "text": [
      "ID: CP006819.1\n",
      "Name: CP006819\n",
      "Description: Streptococcus thermophilus ASCC 1275, complete genome\n",
      "Database cross-references: BioProject:PRJNA222865, BioSample:SAMN02770279\n",
      "Number of features: 3747\n",
      "/molecule_type=DNA\n",
      "/topology=circular\n",
      "/data_file_division=BCT\n",
      "/date=11-JUN-2014\n",
      "/accessions=['CP006819']\n",
      "/sequence_version=1\n",
      "/keywords=['']\n",
      "/source=Streptococcus thermophilus ASCC 1275\n",
      "/organism=Streptococcus thermophilus ASCC 1275\n",
      "/taxonomy=['Bacteria', 'Firmicutes', 'Bacilli', 'Lactobacillales', 'Streptococcaceae', 'Streptococcus']\n",
      "/references=[Reference(title='Genomic insights into high exopolysaccharide-producing dairy starter bacterium Streptococcus thermophilus ASCC 1275', ...), Reference(title='Direct Submission', ...)]\n",
      "/comment=Annotation was added by the NCBI Prokaryotic Genome Annotation\n",
      "Pipeline (released 2013). Information about the Pipeline can be\n",
      "found here: http://www.ncbi.nlm.nih.gov/genome/annotation_prok/\n",
      "Source of bacteria and genomic DNA is available from Prof. Dr.\n",
      "Nagendra P. Shah (npshah@hku.hk, School of Biological Sciences, The\n",
      "University of Hong Kong, Pokfulam Road, Hong Kong) or Australian\n",
      "Starter Culture Research Center Ltd.\n",
      "Annotation modified by the submitter.\n",
      "/structured_comment=OrderedDict([('Genome-Assembly-Data', OrderedDict([('Assembly Method', 'Newbler v. version 2.3'), ('Genome Coverage', '39x'), ('Sequencing Technology', '454')])), ('Genome-Annotation-Data', OrderedDict([('Annotation Provider', 'NCBI'), ('Annotation Date', '10/22/2013 14:24:08'), ('Annotation Pipeline', 'NCBI Prokaryotic Genome Annotation Pipeline'), ('Annotation Method', 'Best-placed reference protein set; GeneMarkS+'), ('Annotation Software revision', '2.2 (rev. 415568)'), ('Features Annotated', 'Gene; CDS; rRNA; tRNA; ncRNA; repeat_region'), ('Genes', '1,959'), ('CDS', '1,694'), ('Pseudo Genes', '194'), ('CRISPR Arrays', '3'), ('rRNAs', '15 (5S, 16S, 23S)'), ('tRNAs', '55'), ('ncRNA', '1'), ('Frameshifted Genes', '139')]))])\n",
      "Undefined sequence of length 1845495\n"
     ]
    }
   ],
   "source": [
    "from Bio import SeqIO\n",
    "file_path='sequence_st.gb'\n",
    "gb_obj=SeqIO.read(file_path,'gb')\n",
    "\n",
    "print(gb_obj)"
   ]
  },
  {
   "cell_type": "code",
   "execution_count": 2,
   "id": "7a974a11-97af-4414-8765-a9ab991aa1a6",
   "metadata": {
    "pycharm": {
     "name": "#%%\n"
    }
   },
   "outputs": [
    {
     "data": {
      "text/plain": [
       "{'molecule_type': 'DNA',\n",
       " 'topology': 'circular',\n",
       " 'data_file_division': 'BCT',\n",
       " 'date': '11-JUN-2014',\n",
       " 'accessions': ['CP006819'],\n",
       " 'sequence_version': 1,\n",
       " 'keywords': [''],\n",
       " 'source': 'Streptococcus thermophilus ASCC 1275',\n",
       " 'organism': 'Streptococcus thermophilus ASCC 1275',\n",
       " 'taxonomy': ['Bacteria',\n",
       "  'Firmicutes',\n",
       "  'Bacilli',\n",
       "  'Lactobacillales',\n",
       "  'Streptococcaceae',\n",
       "  'Streptococcus'],\n",
       " 'references': [Reference(title='Genomic insights into high exopolysaccharide-producing dairy starter bacterium Streptococcus thermophilus ASCC 1275', ...),\n",
       "  Reference(title='Direct Submission', ...)],\n",
       " 'comment': 'Annotation was added by the NCBI Prokaryotic Genome Annotation\\nPipeline (released 2013). Information about the Pipeline can be\\nfound here: http://www.ncbi.nlm.nih.gov/genome/annotation_prok/\\nSource of bacteria and genomic DNA is available from Prof. Dr.\\nNagendra P. Shah (npshah@hku.hk, School of Biological Sciences, The\\nUniversity of Hong Kong, Pokfulam Road, Hong Kong) or Australian\\nStarter Culture Research Center Ltd.\\nAnnotation modified by the submitter.',\n",
       " 'structured_comment': OrderedDict([('Genome-Assembly-Data',\n",
       "               OrderedDict([('Assembly Method', 'Newbler v. version 2.3'),\n",
       "                            ('Genome Coverage', '39x'),\n",
       "                            ('Sequencing Technology', '454')])),\n",
       "              ('Genome-Annotation-Data',\n",
       "               OrderedDict([('Annotation Provider', 'NCBI'),\n",
       "                            ('Annotation Date', '10/22/2013 14:24:08'),\n",
       "                            ('Annotation Pipeline',\n",
       "                             'NCBI Prokaryotic Genome Annotation Pipeline'),\n",
       "                            ('Annotation Method',\n",
       "                             'Best-placed reference protein set; GeneMarkS+'),\n",
       "                            ('Annotation Software revision',\n",
       "                             '2.2 (rev. 415568)'),\n",
       "                            ('Features Annotated',\n",
       "                             'Gene; CDS; rRNA; tRNA; ncRNA; repeat_region'),\n",
       "                            ('Genes', '1,959'),\n",
       "                            ('CDS', '1,694'),\n",
       "                            ('Pseudo Genes', '194'),\n",
       "                            ('CRISPR Arrays', '3'),\n",
       "                            ('rRNAs', '15 (5S, 16S, 23S)'),\n",
       "                            ('tRNAs', '55'),\n",
       "                            ('ncRNA', '1'),\n",
       "                            ('Frameshifted Genes', '139')]))])}"
      ]
     },
     "execution_count": 2,
     "metadata": {},
     "output_type": "execute_result"
    }
   ],
   "source": [
    "gb_obj.annotations"
   ]
  },
  {
   "cell_type": "code",
   "execution_count": 3,
   "id": "4f4804ff-0682-4416-b3f2-133ff82fb513",
   "metadata": {
    "pycharm": {
     "name": "#%%\n"
    }
   },
   "outputs": [
    {
     "data": {
      "text/plain": [
       "1962"
      ]
     },
     "execution_count": 3,
     "metadata": {},
     "output_type": "execute_result"
    }
   ],
   "source": [
    "genes=[]\n",
    "for feature in gb_obj.features:\n",
    "    if feature.type=='gene':\n",
    "        genes.append(feature)\n",
    "len(genes)"
   ]
  },
  {
   "cell_type": "code",
   "execution_count": 13,
   "id": "fdea24b1-e49c-4014-813b-465257f78949",
   "metadata": {
    "tags": [],
    "pycharm": {
     "name": "#%%\n"
    }
   },
   "outputs": [
    {
     "ename": "KeyError",
     "evalue": "'db_xref'",
     "output_type": "error",
     "traceback": [
      "\u001B[1;31m---------------------------------------------------------------------------\u001B[0m",
      "\u001B[1;31mKeyError\u001B[0m                                  Traceback (most recent call last)",
      "\u001B[1;32m~\\AppData\\Local\\Temp/ipykernel_18688/2697580413.py\u001B[0m in \u001B[0;36m<module>\u001B[1;34m\u001B[0m\n\u001B[0;32m     31\u001B[0m     \u001B[0mfile\u001B[0m\u001B[1;33m.\u001B[0m\u001B[0mclose\u001B[0m\u001B[1;33m(\u001B[0m\u001B[1;33m)\u001B[0m\u001B[1;33m\u001B[0m\u001B[1;33m\u001B[0m\u001B[0m\n\u001B[0;32m     32\u001B[0m \u001B[1;33m\u001B[0m\u001B[0m\n\u001B[1;32m---> 33\u001B[1;33m \u001B[0mprom_extract_multi\u001B[0m\u001B[1;33m(\u001B[0m\u001B[0min_gb\u001B[0m \u001B[1;33m=\u001B[0m \u001B[1;34m\"sequence_st.gb\"\u001B[0m\u001B[1;33m,\u001B[0m \u001B[0mprom_len\u001B[0m \u001B[1;33m=\u001B[0m \u001B[1;36m1500\u001B[0m\u001B[1;33m,\u001B[0m \u001B[0mfile_out\u001B[0m \u001B[1;33m=\u001B[0m \u001B[1;34m\"prom_out.fasta\"\u001B[0m\u001B[1;33m)\u001B[0m\u001B[1;33m\u001B[0m\u001B[1;33m\u001B[0m\u001B[0m\n\u001B[0m",
      "\u001B[1;32m~\\AppData\\Local\\Temp/ipykernel_18688/2697580413.py\u001B[0m in \u001B[0;36mprom_extract_multi\u001B[1;34m(in_gb, prom_len, file_out)\u001B[0m\n\u001B[0;32m     18\u001B[0m                 \u001B[0mfeat_loc\u001B[0m \u001B[1;33m=\u001B[0m \u001B[0mstr\u001B[0m\u001B[1;33m(\u001B[0m\u001B[0mfeature\u001B[0m\u001B[1;33m.\u001B[0m\u001B[0mlocation\u001B[0m\u001B[1;33m)\u001B[0m\u001B[1;33m\u001B[0m\u001B[1;33m\u001B[0m\u001B[0m\n\u001B[0;32m     19\u001B[0m                 \u001B[0mmy_prom\u001B[0m \u001B[1;33m=\u001B[0m \u001B[0mGBrecord\u001B[0m\u001B[1;33m[\u001B[0m\u001B[0mmy_end\u001B[0m\u001B[1;33m:\u001B[0m\u001B[0mend_1500\u001B[0m\u001B[1;33m]\u001B[0m\u001B[1;33m.\u001B[0m\u001B[0mreverse_complement\u001B[0m\u001B[1;33m(\u001B[0m\u001B[1;33m)\u001B[0m\u001B[1;33m\u001B[0m\u001B[1;33m\u001B[0m\u001B[0m\n\u001B[1;32m---> 20\u001B[1;33m                 \u001B[0mprom_out\u001B[0m \u001B[1;33m+=\u001B[0m \u001B[1;34m\">Promoter rev_comp\"\u001B[0m \u001B[1;33m+\u001B[0m \u001B[1;34m\"___\"\u001B[0m \u001B[1;33m+\u001B[0m \u001B[0mfeature\u001B[0m\u001B[1;33m.\u001B[0m\u001B[0mqualifiers\u001B[0m\u001B[1;33m[\u001B[0m\u001B[1;34m'db_xref'\u001B[0m\u001B[1;33m]\u001B[0m\u001B[1;33m[\u001B[0m\u001B[1;36m0\u001B[0m\u001B[1;33m]\u001B[0m \u001B[1;33m+\u001B[0m \u001B[1;34m\"___\"\u001B[0m \u001B[1;33m+\u001B[0m \u001B[0mfeat_loc\u001B[0m \u001B[1;33m+\u001B[0m \u001B[1;34m\"\\n\"\u001B[0m\u001B[1;33m\u001B[0m\u001B[1;33m\u001B[0m\u001B[0m\n\u001B[0m\u001B[0;32m     21\u001B[0m                 \u001B[0mprom_out\u001B[0m \u001B[1;33m+=\u001B[0m \u001B[0mmy_prom\u001B[0m\u001B[1;33m.\u001B[0m\u001B[0mseq\u001B[0m\u001B[1;33m.\u001B[0m\u001B[0m__str__\u001B[0m\u001B[1;33m(\u001B[0m\u001B[1;33m)\u001B[0m \u001B[1;33m+\u001B[0m \u001B[1;34m\"\\n\\n\"\u001B[0m\u001B[1;33m\u001B[0m\u001B[1;33m\u001B[0m\u001B[0m\n\u001B[0;32m     22\u001B[0m \u001B[1;33m\u001B[0m\u001B[0m\n",
      "\u001B[1;31mKeyError\u001B[0m: 'db_xref'"
     ]
    }
   ],
   "source": [
    "from Bio.Seq import Seq\n",
    "from Bio import SeqIO\n",
    "from Bio.SeqRecord import SeqRecord\n",
    "\n",
    "def prom_extract_multi(in_gb, prom_len, file_out):\n",
    "    \n",
    "    prom_out = \"\"   \n",
    "\n",
    "    GBrecord = next(SeqIO.parse(in_gb, \"gb\"))\n",
    "    for feature in GBrecord.features:\n",
    "        if feature.type == \"gene\":\n",
    "            my_start = feature.location.start # Identifies the start position of the gene on the sense strand (5' to 3' irrespective of actual coding strand).\n",
    "            my_end = feature.location.end # Identifies the end position of the gene on the sense strand (5' to 3' irrespective of actual coding strand).\n",
    "            start_1500 = my_start - prom_len\n",
    "            end_1500 = my_end + prom_len\n",
    "            \n",
    "            if feature.strand == -1:\n",
    "                feat_loc = str(feature.location)\n",
    "                my_prom = GBrecord[my_end:end_1500].reverse_complement()\n",
    "                prom_out += \">Promoter rev_comp\" + \"___\" + feature.qualifiers['db_xref'][0] + \"___\" + feat_loc + \"\\n\"\n",
    "                prom_out += my_prom.seq.__str__() + \"\\n\\n\"\n",
    "\n",
    "            elif feature.strand == 1:\n",
    "                feat_loc = str(feature.location)\n",
    "                my_prom = GBrecord[start_1500:my_start]\n",
    "                prom_out += \">Promoter\" + \"___\" + feature.qualifiers['db_xref'][0] + \"___\" + feat_loc + \"\\n\"\n",
    "                prom_out += my_prom.seq.__str__()+\"\\n\\n\"\n",
    "\n",
    "    file = open(file_out, 'a')\n",
    "    file.write(prom_out)\n",
    "    file.close()\n",
    "    \n",
    "prom_extract_multi(in_gb = \"sequence_st.gb\", prom_len = 1500, file_out = \"prom_out.fasta\")"
   ]
  }
 ],
 "metadata": {
  "kernelspec": {
   "display_name": "Python 3 (ipykernel)",
   "language": "python",
   "name": "python3"
  },
  "language_info": {
   "codemirror_mode": {
    "name": "ipython",
    "version": 3
   },
   "file_extension": ".py",
   "mimetype": "text/x-python",
   "name": "python",
   "nbconvert_exporter": "python",
   "pygments_lexer": "ipython3",
   "version": "3.9.12"
  }
 },
 "nbformat": 4,
 "nbformat_minor": 5
}