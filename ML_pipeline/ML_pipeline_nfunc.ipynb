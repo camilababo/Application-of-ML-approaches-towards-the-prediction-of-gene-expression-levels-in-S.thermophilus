{
 "cells": [
  {
   "cell_type": "markdown",
   "source": [
    " # Prediction of gene expression levels in *Streptococcus Thermophilus*"
   ],
   "metadata": {
    "collapsed": false,
    "pycharm": {
     "name": "#%% md\n"
    }
   }
  },
  {
   "cell_type": "code",
   "execution_count": 1,
   "outputs": [],
   "source": [
    "# Importing the libraries\n",
    "\n",
    "import pandas as pd"
   ],
   "metadata": {
    "collapsed": false,
    "pycharm": {
     "name": "#%%\n"
    }
   }
  },
  {
   "cell_type": "markdown",
   "source": [
    "## Extraction of Kmer counts from the potencial promoters of the genes in the dataset"
   ],
   "metadata": {
    "collapsed": false,
    "pycharm": {
     "name": "#%% md\n"
    }
   }
  },
  {
   "cell_type": "code",
   "execution_count": 5,
   "outputs": [
    {
     "name": "stdout",
     "output_type": "stream",
     "text": [
      "                   Promoter Type       Locus Tag  Location Coordinates  \\\n",
      "0    Promoter reverse complement  ['T303_00015']        [2011:2347](-)   \n",
      "1    Promoter reverse complement  ['T303_00025']        [4153:5353](-)   \n",
      "2    Promoter reverse complement  ['T303_00030']        [6254:7709](-)   \n",
      "3    Promoter reverse complement  ['T303_00035']        [7890:8945](-)   \n",
      "4                       Promoter  ['T303_00050']      [10422:10776](+)   \n",
      "..                           ...             ...                   ...   \n",
      "803                     Promoter  ['T303_09885']  [1840783:1840921](+)   \n",
      "804  Promoter reverse complement  ['T303_09890']  [1841032:1842175](-)   \n",
      "805  Promoter reverse complement  ['T303_09895']  [1842429:1842711](-)   \n",
      "806  Promoter reverse complement  ['T303_09900']  [1843080:1843215](-)   \n",
      "807                     Promoter  ['T303_09905']  [1844132:1845461](+)   \n",
      "\n",
      "                                     Promoter Sequence  \n",
      "0    AAGTCTCAACAAGTAAGTCTCTAAGCCCCTAACCATAAGGTTTTGG...  \n",
      "1    AAAAAAATAGTTGACATATGAATAAATATTCAATATAATTTATCTC...  \n",
      "2    AGGATTGATACTTATAAGCTTATGCTTAAGCTTGGGGAGAGCCTTC...  \n",
      "3    TCATTGTAAGAGTAGTAAAAACCTATCTTCGGATAGGTTTTTTTAA...  \n",
      "4    TACCTTATCTATTATACAAAAATTCTTTTTAGATGCAAGAAATTCT...  \n",
      "..                                                 ...  \n",
      "803  AAAACTTAAATATACAATACAAGAGATAAGTACACAATAAAAACTC...  \n",
      "804  TGACAATTCTTATAAAATTTGATACACTAATGCAGTTGTGGATAAT...  \n",
      "805  TGGGAAATACAAAGCAAGTATTGGTCAAATCTTCCTATTATTATGT...  \n",
      "806  ACAAGAGCATGCTATTACTATAAAATAATATGGTATGTTTAGTAAC...  \n",
      "807  CTTTTCATTGTCAAAAAAACTAGCCTTAAAATAAGACTAGTTTTTG...  \n",
      "\n",
      "[808 rows x 4 columns]\n"
     ]
    }
   ],
   "source": [
    "# Load the promoter sequences\n",
    "# Create a dataframe with the promoter sequences\n",
    "\n",
    "filtered_promoter_file_path = r\"C:\\Users\\anaca\\Documents\\Bioinformática\\2º Semestre\\projeto\\promoter-extraction-ML-pipeline\\promoter_extraction\\filtered_promoters_100_bp.fasta\"\n",
    "\n",
    "with open(filtered_promoter_file_path, \"r\") as f:\n",
    "    lines = f.readlines()\n",
    "lines = [line.strip() for line in lines]\n",
    "lines = [line.split(\"\\t\") for line in lines]\n",
    "lines = [line[0] for line in lines]\n",
    "df = pd.DataFrame(lines)\n",
    "df.columns = ['Promoter Type']\n",
    "df[['Promoter Type', 'Locus Tag', \"Location Coordinates\", \"Promoter Sequence\"]] = df['Promoter Type'].str.split(';', 4, expand=True)\n",
    "print(df)"
   ],
   "metadata": {
    "collapsed": false,
    "pycharm": {
     "name": "#%%\n"
    }
   }
  },
  {
   "cell_type": "code",
   "execution_count": null,
   "outputs": [],
   "source": [
    "\n",
    "## Extraction of Kmer counts from the potencial promoters of the genes in the dataset\n",
    "# Load the promoter sequences\n",
    "# Create a dataframe with the promoter sequences\n",
    "\n",
    "filtered_promoter_file_path = r\"C:\\Users\\anaca\\Documents\\Bioinformática\\2º Semestre\\projeto\\promoter-extraction-ML-pipeline\\promoter_extraction\\filtered_promoters_100_bp.fasta\"\n",
    "\n",
    "\n",
    "def read_filtered_promoters(file_path):\n",
    "    with open(file_path, \"r\") as f:\n",
    "        lines = f.readlines()\n",
    "    lines = [line.strip() for line in lines]\n",
    "    lines = [line.split(\"\\t\") for line in lines]\n",
    "    lines = [line[0] for line in lines]\n",
    "    return lines\n",
    "\n",
    "\n",
    "# read_filtered_promoters(filtered_promoter_file_path)\n",
    "\n",
    "def create_filtered_promoters_df(filename):\n",
    "    lines = read_filtered_promoters(filename)\n",
    "    df = pd.DataFrame(lines)\n",
    "    df.columns = ['Promoter Type']\n",
    "    df[['Promoter Type', 'Locus Tag', \"Location Coordinates\", \"Promoter Sequence\"]] = df['Promoter Type'].str.split(';',\n",
    "                                                                                                                    4,\n",
    "                                                                                                                    expand=True)\n",
    "    return df\n",
    "\n",
    "\n",
    "create_filtered_promoters_df(filtered_promoter_file_path)\n",
    "\n",
    "\n",
    "# Create dictionary with locus tag as key and promoter sequence as value\n",
    "\n",
    "def create_promoter_dict(df):\n",
    "    promoter_dict = {}\n",
    "    for index, row in df.iterrows():\n",
    "        promoter_dict[row['Locus Tag']] = row['Promoter Sequence']\n",
    "    return promoter_dict\n",
    "\n",
    "\n",
    "create_promoter_dict(create_filtered_promoters_df(filtered_promoter_file_path))\n",
    "\n",
    "\n",
    "# Generate Kmer from the promoter sequences\n",
    "\n",
    "def generate_kmer(promoter_dict, k):\n",
    "    kmer_dict = {}\n",
    "    for key, value in promoter_dict.items():\n",
    "        kmer_dict[key] = {}\n",
    "        for i in range(len(value) - k + 1):\n",
    "            kmer_dict[key][value[i:i + k]] = 0\n",
    "\n",
    "    return kmer_dict\n",
    "    # print(list(kmer_dict.values())[0])\n",
    "\n",
    "\n",
    "generate_kmer(create_promoter_dict(create_filtered_promoters_df(filtered_promoter_file_path)), 10)\n",
    "\n",
    "\n",
    "def count_kmer(kmer_dict, promoter_dict, k):\n",
    "    for key, value in promoter_dict.items():\n",
    "        for i in range(len(value) - k + 1):\n",
    "            kmer_dict[key][value[i:i + k]] += 1\n",
    "    # return kmer_dict\n",
    "    kmer_feature_table = pd.DataFrame.from_dict(kmer_dict)\n",
    "    return kmer_feature_table\n",
    "\n",
    "\n",
    "count_kmer(generate_kmer(create_promoter_dict(create_filtered_promoters_df(filtered_promoter_file_path)), 10),\n",
    "           create_promoter_dict(create_filtered_promoters_df(filtered_promoter_file_path)), 10)\n",
    "\n",
    "\n",
    "def return_kmers_with_counts_above_threshold(kmer_dict, threshold):\n",
    "    kmer_dict_filtered = {}\n",
    "    for key, value in kmer_dict.items():\n",
    "        kmer_dict_filtered[key] = {}\n",
    "        for kmer, count in value.items():\n",
    "            if count > threshold:\n",
    "                kmer_dict_filtered[key][kmer] = count\n",
    "    return kmer_dict_filtered\n",
    "\n",
    "\n",
    "return_kmers_with_counts_above_threshold(\n",
    "    count_kmer(generate_kmer(create_promoter_dict(create_filtered_promoters_df(filtered_promoter_file_path)), 10),\n",
    "               create_promoter_dict(create_filtered_promoters_df(filtered_promoter_file_path)), 10), 1)\n",
    "\n",
    "\n",
    "def generate_kmer_count_dataframe(kmer_dict):\n",
    "    kmer_dict_df = pd.DataFrame(kmer_dict)\n",
    "    kmer_dict_df.columns = ['Locus Tag', 'Kmer', 'Count']\n",
    "    return kmer_dict_df\n",
    "\n",
    "\n",
    "generate_kmer_count_dataframe(\n",
    "    count_kmer(generate_kmer(create_promoter_dict(create_filtered_promoters_df(filtered_promoter_file_path)), 10),\n",
    "               create_promoter_dict(create_filtered_promoters_df(filtered_promoter_file_path)), 10))"
   ],
   "metadata": {
    "collapsed": false,
    "pycharm": {
     "name": "#%%\n"
    }
   }
  }
 ],
 "metadata": {
  "kernelspec": {
   "display_name": "Python 3",
   "language": "python",
   "name": "python3"
  },
  "language_info": {
   "codemirror_mode": {
    "name": "ipython",
    "version": 2
   },
   "file_extension": ".py",
   "mimetype": "text/x-python",
   "name": "python",
   "nbconvert_exporter": "python",
   "pygments_lexer": "ipython2",
   "version": "2.7.6"
  }
 },
 "nbformat": 4,
 "nbformat_minor": 0
}